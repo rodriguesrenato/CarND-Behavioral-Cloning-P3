{
 "metadata": {
  "language_info": {
   "codemirror_mode": {
    "name": "ipython",
    "version": 3
   },
   "file_extension": ".py",
   "mimetype": "text/x-python",
   "name": "python",
   "nbconvert_exporter": "python",
   "pygments_lexer": "ipython3",
   "version": "3.5.2"
  },
  "orig_nbformat": 4,
  "kernelspec": {
   "name": "python3",
   "display_name": "Python 3.5.2 64-bit ('car-nd-tf1': conda)"
  },
  "interpreter": {
   "hash": "56abccd277d2f8b641726cb2c34314f6989c3f9b6cbb9826f9eec336b746dc6a"
  }
 },
 "nbformat": 4,
 "nbformat_minor": 2,
 "cells": [
  {
   "cell_type": "markdown",
   "source": [
    "# Behavioral Cloninig Project\n",
    "\n",
    "---\n",
    "\n",
    "## Training Pipeline with Keras and Generator"
   ],
   "metadata": {}
  },
  {
   "cell_type": "code",
   "execution_count": 3,
   "source": [
    "import os\n",
    "import csv\n",
    "import cv2\n",
    "import time\n",
    "import numpy as np\n",
    "from math import ceil\n",
    "import matplotlib.image as mpimg\n",
    "\n",
    "import sklearn\n",
    "from sklearn.model_selection import train_test_split\n",
    "from sklearn.utils import shuffle\n",
    "\n",
    "from keras.models import Sequential, Model\n",
    "from keras.layers import Flatten, Dense, Dropout, Lambda, Cropping2D\n",
    "from keras.layers.convolutional import Convolution2D"
   ],
   "outputs": [],
   "metadata": {}
  },
  {
   "cell_type": "code",
   "execution_count": 4,
   "source": [
    "# Training params\n",
    "validation_split = 0.2\n",
    "\n",
    "# Create an sample array from driving_log.csv\n",
    "samples = []\n",
    "with open('./data/driving_log.csv') as csvfile:\n",
    "    reader = csv.reader(csvfile)\n",
    "    for line in reader:\n",
    "        samples.append(line)\n",
    "\n",
    "# Create train and validation samples filenames arrays\n",
    "train_samples, validation_samples = train_test_split(shuffle(samples), test_size=validation_split)"
   ],
   "outputs": [],
   "metadata": {}
  },
  {
   "cell_type": "code",
   "execution_count": 5,
   "source": [
    "# Define generator function\n",
    "def generator(samples, batch_size=32):\n",
    "    num_samples = len(samples)\n",
    "\n",
    "    # Relative paths\n",
    "    data_files_path_origin = 'data/'\n",
    "    data_files_path_running = 'data/'\n",
    "\n",
    "    # Steering correction definition\n",
    "    steering_correction = 0.2\n",
    "    steering_correction_arr = [0.0, steering_correction, -1.0*steering_correction]\n",
    "\n",
    "    while 1: # Loop forever so the generator never terminates\n",
    "        shuffle(samples)\n",
    "        for offset in range(0, num_samples, batch_size):\n",
    "            batch_samples = samples[offset:offset+batch_size]\n",
    "\n",
    "            images = []\n",
    "            measurements = []\n",
    "\n",
    "            # Iterate over each sample in batch_samples\n",
    "            for batch_sample in batch_samples:\n",
    "                # Get the center, left and right images and steering angles (corrected when apply) from each sample\n",
    "                # This will increases three times the training dataset\n",
    "                for i in range(len(steering_correction_arr)):\n",
    "                    if data_files_path_origin != data_files_path_running:\n",
    "                        source_path = batch_sample[i]\n",
    "                        filename = source_path.split('/')[-1]\n",
    "                        batch_sample_path = data_files_path_running + 'IMG/' + filename\n",
    "                    else:\n",
    "                        batch_sample_path = batch_sample[i]\n",
    "\n",
    "                    # Append sample image and the respective steering angle measurement with the proper steering_correction value\n",
    "                    image = mpimg.imread(batch_sample_path)\n",
    "                    images.append(image)\n",
    "                    measurement = float(batch_sample[3]) + steering_correction_arr[i]\n",
    "                    measurements.append(measurement)\n",
    "\n",
    "                    # Append a new augmented version of each sample by fliping it image in vertical and inverting measurement sign\n",
    "                    # This will duplicate the training dataset\n",
    "                    images.append(cv2.flip(image,1))\n",
    "                    measurements.append(-1.0*measurement)\n",
    "\n",
    "            # trim image to only see section with road\n",
    "            X_train = np.array(images)\n",
    "            y_train = np.array(measurements)\n",
    "            yield sklearn.utils.shuffle(X_train, y_train)"
   ],
   "outputs": [],
   "metadata": {}
  },
  {
   "cell_type": "code",
   "execution_count": 6,
   "source": [
    "# print dataset statistics\n",
    "def count_steering_dir(samples):\n",
    "    straight_arr = np.array([0 for row in samples if float(row[3]) == 0])\n",
    "    straight_arr_positive_comp = straight_arr+0.2\n",
    "    straight_arr_negative_comp = straight_arr-0.2\n",
    "\n",
    "    steer_left_arr = np.array([float(row[3]) for row in samples if float(row[3]) < 0])\n",
    "    steer_left_arr_positive_comp = steer_left_arr+0.2\n",
    "    steer_left_arr_negative_comp = steer_left_arr-0.2\n",
    "\n",
    "    steer_right_arr = np.array([float(row[3]) for row in samples if float(row[3]) > 0])\n",
    "    steer_right_arr_positive_comp = steer_right_arr+0.2\n",
    "    steer_right_arr_negative_comp = steer_right_arr-0.2\n",
    "\n",
    "\n",
    "    steer_arr = np.hstack((straight_arr,\n",
    "                            straight_arr_positive_comp,\n",
    "                            straight_arr_negative_comp,\n",
    "                            steer_left_arr,\n",
    "                            steer_left_arr_positive_comp,\n",
    "                            steer_left_arr_negative_comp,\n",
    "                            steer_right_arr,\n",
    "                            steer_right_arr_positive_comp,\n",
    "                            steer_right_arr_negative_comp))\n",
    "\n",
    "    straight = np.count_nonzero(steer_arr == 0)\n",
    "    steer_left = np.count_nonzero(steer_arr < 0)\n",
    "    steer_right = np.count_nonzero(steer_arr > 0)\n",
    "\n",
    "    max_left = min(steer_arr)\n",
    "    max_right = max(steer_arr)\n",
    "\n",
    "    return [straight, steer_left, steer_right,max_left,max_right,len(steer_arr)]\n",
    "train_stats = count_steering_dir(train_samples)\n",
    "validation_stats = count_steering_dir(validation_samples)\n",
    "print(\"Dataset Summary (considering center, left, and right images, all of them with an augmented version\")\n",
    "print(\"Total train samples   = {}\\n   | Distribuition (Center,Left,Right) = ({:.2f},{:.2f},{:.2f})\\n   | Min/Max Steering (Left,Right) = ({:.2f},{:.2f})\".format(train_stats[5]*2, train_stats[0]/train_stats[5], train_stats[1]/train_stats[5], train_stats[2]/train_stats[5], train_stats[3], train_stats[4]))\n",
    "print(\"Total validation samples = {}\\n   | Distribuition (Center,Left,Right) = ({:.2f},{:.2f},{:.2f})\\n   | Min/Max Steering (Left,Right) = ({:.2f},{:.2f})\".format(validation_stats[5]*2, validation_stats[0]/validation_stats[5], validation_stats[1]/validation_stats[5], validation_stats[2]/validation_stats[5], validation_stats[3], validation_stats[4]))"
   ],
   "outputs": [
    {
     "output_type": "stream",
     "name": "stdout",
     "text": [
      "Dataset Summary (considering center, left, and right images, all of them with an augmented version\n",
      "Total train samples   = 13680\n",
      "   | Distribuition (Center,Left,Right) = (0.24,0.42,0.33)\n",
      "   | Min/Max Steering (Left,Right) = (-1.20,1.20)\n",
      "Total validation samples = 3420\n",
      "   | Distribuition (Center,Left,Right) = (0.24,0.42,0.34)\n",
      "   | Min/Max Steering (Left,Right) = (-0.80,1.20)\n"
     ]
    }
   ],
   "metadata": {}
  },
  {
   "cell_type": "code",
   "execution_count": 21,
   "source": [
    "# Initialize Keras sequential model\n",
    "model = Sequential()\n",
    "\n",
    "# Preprocess incoming data, centered around zero with small standard deviation \n",
    "model.add(Lambda(lambda x: x/ 255.0 -0.5,input_shape=(160,320,3)))\n",
    "# Crop image on the relevant area of the road\n",
    "model.add(Cropping2D(cropping=((70,25),(0,0))))\n",
    "\n",
    "# Build model published by the autonomous vehicle team at NVIDIA\n",
    "model.add(Convolution2D(24,(5,5),strides=(2,2),activation=\"relu\"))\n",
    "model.add(Convolution2D(36,(5,5),strides=(2,2),activation=\"relu\"))\n",
    "model.add(Convolution2D(48,(5,5),strides=(2,2),activation=\"relu\"))\n",
    "model.add(Convolution2D(64,(3,3),activation=\"relu\"))\n",
    "model.add(Convolution2D(64,(3,3),activation=\"relu\"))\n",
    "model.add(Flatten())\n",
    "model.add(Dense(100,activation=\"relu\"))\n",
    "model.add(Dense(50,activation=\"relu\"))\n",
    "# model.add(Dropout(0.2))\n",
    "model.add(Dense(10,activation=\"relu\"))\n",
    "# model.add(Dropout(0.2))\n",
    "model.add(Dense(1))\n",
    "\n",
    "# Show model layers summary\n",
    "print(\"\\nModel Summary:\")\n",
    "model.summary()"
   ],
   "outputs": [
    {
     "output_type": "stream",
     "name": "stdout",
     "text": [
      "\n",
      "Model Summary:\n",
      "_________________________________________________________________\n",
      "Layer (type)                 Output Shape              Param #   \n",
      "=================================================================\n",
      "lambda_4 (Lambda)            (None, 160, 320, 3)       0         \n",
      "_________________________________________________________________\n",
      "cropping2d_4 (Cropping2D)    (None, 65, 320, 3)        0         \n",
      "_________________________________________________________________\n",
      "conv2d_16 (Conv2D)           (None, 31, 158, 24)       1824      \n",
      "_________________________________________________________________\n",
      "conv2d_17 (Conv2D)           (None, 14, 77, 36)        21636     \n",
      "_________________________________________________________________\n",
      "conv2d_18 (Conv2D)           (None, 5, 37, 48)         43248     \n",
      "_________________________________________________________________\n",
      "conv2d_19 (Conv2D)           (None, 3, 35, 64)         27712     \n",
      "_________________________________________________________________\n",
      "conv2d_20 (Conv2D)           (None, 1, 33, 64)         36928     \n",
      "_________________________________________________________________\n",
      "flatten_4 (Flatten)          (None, 2112)              0         \n",
      "_________________________________________________________________\n",
      "dense_13 (Dense)             (None, 64)                135232    \n",
      "_________________________________________________________________\n",
      "dense_14 (Dense)             (None, 32)                2080      \n",
      "_________________________________________________________________\n",
      "dense_15 (Dense)             (None, 8)                 264       \n",
      "_________________________________________________________________\n",
      "dense_16 (Dense)             (None, 1)                 9         \n",
      "=================================================================\n",
      "Total params: 268,933\n",
      "Trainable params: 268,933\n",
      "Non-trainable params: 0\n",
      "_________________________________________________________________\n"
     ]
    }
   ],
   "metadata": {}
  },
  {
   "cell_type": "code",
   "execution_count": 22,
   "source": [
    "# Training params\n",
    "epoch = 10\n",
    "# Set our batch size\n",
    "# NOTE: The three images (Center, Left and Right) from sample and their respective augmented version are add to the training dataset, so each sample results in 6 images/measurements. The generator will return 6 times the batch_size of data to train\n",
    "pre_batch_size = 22\n",
    "pre_processing_factor = 6\n",
    "\n",
    "# Compile and train the model using the generator function.\n",
    "# NOTE: passing pre_batch_size because generator will internally append 6 images per sample\n",
    "train_generator = generator(train_samples, batch_size=pre_batch_size)\n",
    "validation_generator = generator(validation_samples, batch_size=pre_batch_size)\n",
    "\n",
    "print(\"\\nTraining params:\")\n",
    "print(\"Epochs\\t\\t\\t\\t= {}\".format(epoch))\n",
    "print(\"Batch size\\t\\t\\t= {}\".format(pre_batch_size * pre_processing_factor))\n",
    "print(\"Total training samples  \\t= {}\\t| steps per batch = {}\".format(len(train_samples)*pre_processing_factor, ceil(len(train_samples)/pre_batch_size)))\n",
    "print(\"Total validation samples\\t= {}\\t| steps per batch = {}\".format(len(validation_samples)*pre_processing_factor, ceil(len(validation_samples)/pre_batch_size)))\n",
    "print(\"\\nStart training with generator:\\n\")\n",
    "\n",
    "# Train model with mean square error loss and adam optimizer\n",
    "ts = time.time()\n",
    "model.compile(loss='mse', optimizer='adam')\n",
    "generator_history_object = model.fit_generator(train_generator, \n",
    "                                steps_per_epoch=ceil(len(train_samples)/pre_batch_size),\n",
    "                                validation_data=validation_generator,\n",
    "                                validation_steps=ceil(len(validation_samples)/pre_batch_size),\n",
    "                                epochs=epoch, \n",
    "                                verbose=2)\n",
    "# Save model\n",
    "model.save('model_dropout_{}_{}.h5'.format(epoch,int(ts)))\n",
    "print(\"Model saved! Filename: model_dropout_{}_{}.h5\".format(epoch,int(ts)))"
   ],
   "outputs": [
    {
     "output_type": "stream",
     "name": "stdout",
     "text": [
      "\n",
      "Training params:\n",
      "Epochs\t\t\t\t= 10\n",
      "Batch size\t\t\t= 192\n",
      "Total training samples  \t= 13680\t| steps per batch = 72\n",
      "Total validation samples\t= 3420\t| steps per batch = 18\n",
      "\n",
      "Start training with generator:\n",
      "\n",
      "Epoch 1/10\n",
      " - 74s - loss: 0.0371 - val_loss: 0.0326\n",
      "Epoch 2/10\n",
      " - 71s - loss: 0.0316 - val_loss: 0.0290\n",
      "Epoch 3/10\n",
      " - 72s - loss: 0.0297 - val_loss: 0.0280\n",
      "Epoch 4/10\n",
      " - 69s - loss: 0.0287 - val_loss: 0.0277\n",
      "Epoch 5/10\n",
      " - 69s - loss: 0.0276 - val_loss: 0.0284\n",
      "Epoch 6/10\n",
      " - 69s - loss: 0.0271 - val_loss: 0.0281\n",
      "Epoch 7/10\n",
      " - 68s - loss: 0.0262 - val_loss: 0.0281\n",
      "Epoch 8/10\n"
     ]
    },
    {
     "output_type": "error",
     "ename": "KeyboardInterrupt",
     "evalue": "",
     "traceback": [
      "\u001b[0;31m---------------------------------------------------------------------------\u001b[0m",
      "\u001b[0;31mKeyboardInterrupt\u001b[0m                         Traceback (most recent call last)",
      "\u001b[0;32m<ipython-input-22-011d5d28cd99>\u001b[0m in \u001b[0;36m<module>\u001b[0;34m\u001b[0m\n\u001b[1;32m     26\u001b[0m                                 \u001b[0mvalidation_steps\u001b[0m\u001b[0;34m=\u001b[0m\u001b[0mceil\u001b[0m\u001b[0;34m(\u001b[0m\u001b[0mlen\u001b[0m\u001b[0;34m(\u001b[0m\u001b[0mvalidation_samples\u001b[0m\u001b[0;34m)\u001b[0m\u001b[0;34m/\u001b[0m\u001b[0mpre_batch_size\u001b[0m\u001b[0;34m)\u001b[0m\u001b[0;34m,\u001b[0m\u001b[0;34m\u001b[0m\u001b[0m\n\u001b[1;32m     27\u001b[0m                                 \u001b[0mepochs\u001b[0m\u001b[0;34m=\u001b[0m\u001b[0mepoch\u001b[0m\u001b[0;34m,\u001b[0m\u001b[0;34m\u001b[0m\u001b[0m\n\u001b[0;32m---> 28\u001b[0;31m                                 verbose=2)\n\u001b[0m\u001b[1;32m     29\u001b[0m \u001b[0;31m# Save model\u001b[0m\u001b[0;34m\u001b[0m\u001b[0;34m\u001b[0m\u001b[0m\n\u001b[1;32m     30\u001b[0m \u001b[0mmodel\u001b[0m\u001b[0;34m.\u001b[0m\u001b[0msave\u001b[0m\u001b[0;34m(\u001b[0m\u001b[0;34m'model_dropout_{}_{}.h5'\u001b[0m\u001b[0;34m.\u001b[0m\u001b[0mformat\u001b[0m\u001b[0;34m(\u001b[0m\u001b[0mepoch\u001b[0m\u001b[0;34m,\u001b[0m\u001b[0mint\u001b[0m\u001b[0;34m(\u001b[0m\u001b[0mts\u001b[0m\u001b[0;34m)\u001b[0m\u001b[0;34m)\u001b[0m\u001b[0;34m)\u001b[0m\u001b[0;34m\u001b[0m\u001b[0m\n",
      "\u001b[0;32m~/anaconda3/envs/car-nd-tf1/lib/python3.5/site-packages/keras/legacy/interfaces.py\u001b[0m in \u001b[0;36mwrapper\u001b[0;34m(*args, **kwargs)\u001b[0m\n\u001b[1;32m     89\u001b[0m                 warnings.warn('Update your `' + object_name + '` call to the ' +\n\u001b[1;32m     90\u001b[0m                               'Keras 2 API: ' + signature, stacklevel=2)\n\u001b[0;32m---> 91\u001b[0;31m             \u001b[0;32mreturn\u001b[0m \u001b[0mfunc\u001b[0m\u001b[0;34m(\u001b[0m\u001b[0;34m*\u001b[0m\u001b[0margs\u001b[0m\u001b[0;34m,\u001b[0m \u001b[0;34m**\u001b[0m\u001b[0mkwargs\u001b[0m\u001b[0;34m)\u001b[0m\u001b[0;34m\u001b[0m\u001b[0m\n\u001b[0m\u001b[1;32m     92\u001b[0m         \u001b[0mwrapper\u001b[0m\u001b[0;34m.\u001b[0m\u001b[0m_original_function\u001b[0m \u001b[0;34m=\u001b[0m \u001b[0mfunc\u001b[0m\u001b[0;34m\u001b[0m\u001b[0m\n\u001b[1;32m     93\u001b[0m         \u001b[0;32mreturn\u001b[0m \u001b[0mwrapper\u001b[0m\u001b[0;34m\u001b[0m\u001b[0m\n",
      "\u001b[0;32m~/anaconda3/envs/car-nd-tf1/lib/python3.5/site-packages/keras/engine/training.py\u001b[0m in \u001b[0;36mfit_generator\u001b[0;34m(self, generator, steps_per_epoch, epochs, verbose, callbacks, validation_data, validation_steps, class_weight, max_queue_size, workers, use_multiprocessing, shuffle, initial_epoch)\u001b[0m\n\u001b[1;32m   1416\u001b[0m             \u001b[0muse_multiprocessing\u001b[0m\u001b[0;34m=\u001b[0m\u001b[0muse_multiprocessing\u001b[0m\u001b[0;34m,\u001b[0m\u001b[0;34m\u001b[0m\u001b[0m\n\u001b[1;32m   1417\u001b[0m             \u001b[0mshuffle\u001b[0m\u001b[0;34m=\u001b[0m\u001b[0mshuffle\u001b[0m\u001b[0;34m,\u001b[0m\u001b[0;34m\u001b[0m\u001b[0m\n\u001b[0;32m-> 1418\u001b[0;31m             initial_epoch=initial_epoch)\n\u001b[0m\u001b[1;32m   1419\u001b[0m \u001b[0;34m\u001b[0m\u001b[0m\n\u001b[1;32m   1420\u001b[0m     \u001b[0;34m@\u001b[0m\u001b[0minterfaces\u001b[0m\u001b[0;34m.\u001b[0m\u001b[0mlegacy_generator_methods_support\u001b[0m\u001b[0;34m\u001b[0m\u001b[0m\n",
      "\u001b[0;32m~/anaconda3/envs/car-nd-tf1/lib/python3.5/site-packages/keras/engine/training_generator.py\u001b[0m in \u001b[0;36mfit_generator\u001b[0;34m(model, generator, steps_per_epoch, epochs, verbose, callbacks, validation_data, validation_steps, class_weight, max_queue_size, workers, use_multiprocessing, shuffle, initial_epoch)\u001b[0m\n\u001b[1;32m    215\u001b[0m                 outs = model.train_on_batch(x, y,\n\u001b[1;32m    216\u001b[0m                                             \u001b[0msample_weight\u001b[0m\u001b[0;34m=\u001b[0m\u001b[0msample_weight\u001b[0m\u001b[0;34m,\u001b[0m\u001b[0;34m\u001b[0m\u001b[0m\n\u001b[0;32m--> 217\u001b[0;31m                                             class_weight=class_weight)\n\u001b[0m\u001b[1;32m    218\u001b[0m \u001b[0;34m\u001b[0m\u001b[0m\n\u001b[1;32m    219\u001b[0m                 \u001b[0mouts\u001b[0m \u001b[0;34m=\u001b[0m \u001b[0mto_list\u001b[0m\u001b[0;34m(\u001b[0m\u001b[0mouts\u001b[0m\u001b[0;34m)\u001b[0m\u001b[0;34m\u001b[0m\u001b[0m\n",
      "\u001b[0;32m~/anaconda3/envs/car-nd-tf1/lib/python3.5/site-packages/keras/engine/training.py\u001b[0m in \u001b[0;36mtrain_on_batch\u001b[0;34m(self, x, y, sample_weight, class_weight)\u001b[0m\n\u001b[1;32m   1215\u001b[0m             \u001b[0mins\u001b[0m \u001b[0;34m=\u001b[0m \u001b[0mx\u001b[0m \u001b[0;34m+\u001b[0m \u001b[0my\u001b[0m \u001b[0;34m+\u001b[0m \u001b[0msample_weights\u001b[0m\u001b[0;34m\u001b[0m\u001b[0m\n\u001b[1;32m   1216\u001b[0m         \u001b[0mself\u001b[0m\u001b[0;34m.\u001b[0m\u001b[0m_make_train_function\u001b[0m\u001b[0;34m(\u001b[0m\u001b[0;34m)\u001b[0m\u001b[0;34m\u001b[0m\u001b[0m\n\u001b[0;32m-> 1217\u001b[0;31m         \u001b[0moutputs\u001b[0m \u001b[0;34m=\u001b[0m \u001b[0mself\u001b[0m\u001b[0;34m.\u001b[0m\u001b[0mtrain_function\u001b[0m\u001b[0;34m(\u001b[0m\u001b[0mins\u001b[0m\u001b[0;34m)\u001b[0m\u001b[0;34m\u001b[0m\u001b[0m\n\u001b[0m\u001b[1;32m   1218\u001b[0m         \u001b[0;32mreturn\u001b[0m \u001b[0munpack_singleton\u001b[0m\u001b[0;34m(\u001b[0m\u001b[0moutputs\u001b[0m\u001b[0;34m)\u001b[0m\u001b[0;34m\u001b[0m\u001b[0m\n\u001b[1;32m   1219\u001b[0m \u001b[0;34m\u001b[0m\u001b[0m\n",
      "\u001b[0;32m~/anaconda3/envs/car-nd-tf1/lib/python3.5/site-packages/keras/backend/tensorflow_backend.py\u001b[0m in \u001b[0;36m__call__\u001b[0;34m(self, inputs)\u001b[0m\n\u001b[1;32m   2713\u001b[0m                 \u001b[0;32mreturn\u001b[0m \u001b[0mself\u001b[0m\u001b[0;34m.\u001b[0m\u001b[0m_legacy_call\u001b[0m\u001b[0;34m(\u001b[0m\u001b[0minputs\u001b[0m\u001b[0;34m)\u001b[0m\u001b[0;34m\u001b[0m\u001b[0m\n\u001b[1;32m   2714\u001b[0m \u001b[0;34m\u001b[0m\u001b[0m\n\u001b[0;32m-> 2715\u001b[0;31m             \u001b[0;32mreturn\u001b[0m \u001b[0mself\u001b[0m\u001b[0;34m.\u001b[0m\u001b[0m_call\u001b[0m\u001b[0;34m(\u001b[0m\u001b[0minputs\u001b[0m\u001b[0;34m)\u001b[0m\u001b[0;34m\u001b[0m\u001b[0m\n\u001b[0m\u001b[1;32m   2716\u001b[0m         \u001b[0;32melse\u001b[0m\u001b[0;34m:\u001b[0m\u001b[0;34m\u001b[0m\u001b[0m\n\u001b[1;32m   2717\u001b[0m             \u001b[0;32mif\u001b[0m \u001b[0mpy_any\u001b[0m\u001b[0;34m(\u001b[0m\u001b[0mis_tensor\u001b[0m\u001b[0;34m(\u001b[0m\u001b[0mx\u001b[0m\u001b[0;34m)\u001b[0m \u001b[0;32mfor\u001b[0m \u001b[0mx\u001b[0m \u001b[0;32min\u001b[0m \u001b[0minputs\u001b[0m\u001b[0;34m)\u001b[0m\u001b[0;34m:\u001b[0m\u001b[0;34m\u001b[0m\u001b[0m\n",
      "\u001b[0;32m~/anaconda3/envs/car-nd-tf1/lib/python3.5/site-packages/keras/backend/tensorflow_backend.py\u001b[0m in \u001b[0;36m_call\u001b[0;34m(self, inputs)\u001b[0m\n\u001b[1;32m   2673\u001b[0m             \u001b[0mfetched\u001b[0m \u001b[0;34m=\u001b[0m \u001b[0mself\u001b[0m\u001b[0;34m.\u001b[0m\u001b[0m_callable_fn\u001b[0m\u001b[0;34m(\u001b[0m\u001b[0;34m*\u001b[0m\u001b[0marray_vals\u001b[0m\u001b[0;34m,\u001b[0m \u001b[0mrun_metadata\u001b[0m\u001b[0;34m=\u001b[0m\u001b[0mself\u001b[0m\u001b[0;34m.\u001b[0m\u001b[0mrun_metadata\u001b[0m\u001b[0;34m)\u001b[0m\u001b[0;34m\u001b[0m\u001b[0m\n\u001b[1;32m   2674\u001b[0m         \u001b[0;32melse\u001b[0m\u001b[0;34m:\u001b[0m\u001b[0;34m\u001b[0m\u001b[0m\n\u001b[0;32m-> 2675\u001b[0;31m             \u001b[0mfetched\u001b[0m \u001b[0;34m=\u001b[0m \u001b[0mself\u001b[0m\u001b[0;34m.\u001b[0m\u001b[0m_callable_fn\u001b[0m\u001b[0;34m(\u001b[0m\u001b[0;34m*\u001b[0m\u001b[0marray_vals\u001b[0m\u001b[0;34m)\u001b[0m\u001b[0;34m\u001b[0m\u001b[0m\n\u001b[0m\u001b[1;32m   2676\u001b[0m         \u001b[0;32mreturn\u001b[0m \u001b[0mfetched\u001b[0m\u001b[0;34m[\u001b[0m\u001b[0;34m:\u001b[0m\u001b[0mlen\u001b[0m\u001b[0;34m(\u001b[0m\u001b[0mself\u001b[0m\u001b[0;34m.\u001b[0m\u001b[0moutputs\u001b[0m\u001b[0;34m)\u001b[0m\u001b[0;34m]\u001b[0m\u001b[0;34m\u001b[0m\u001b[0m\n\u001b[1;32m   2677\u001b[0m \u001b[0;34m\u001b[0m\u001b[0m\n",
      "\u001b[0;32m~/anaconda3/envs/car-nd-tf1/lib/python3.5/site-packages/tensorflow/python/client/session.py\u001b[0m in \u001b[0;36m__call__\u001b[0;34m(self, *args, **kwargs)\u001b[0m\n\u001b[1;32m   1380\u001b[0m           ret = tf_session.TF_SessionRunCallable(\n\u001b[1;32m   1381\u001b[0m               \u001b[0mself\u001b[0m\u001b[0;34m.\u001b[0m\u001b[0m_session\u001b[0m\u001b[0;34m.\u001b[0m\u001b[0m_session\u001b[0m\u001b[0;34m,\u001b[0m \u001b[0mself\u001b[0m\u001b[0;34m.\u001b[0m\u001b[0m_handle\u001b[0m\u001b[0;34m,\u001b[0m \u001b[0margs\u001b[0m\u001b[0;34m,\u001b[0m \u001b[0mstatus\u001b[0m\u001b[0;34m,\u001b[0m\u001b[0;34m\u001b[0m\u001b[0m\n\u001b[0;32m-> 1382\u001b[0;31m               run_metadata_ptr)\n\u001b[0m\u001b[1;32m   1383\u001b[0m         \u001b[0;32mif\u001b[0m \u001b[0mrun_metadata\u001b[0m\u001b[0;34m:\u001b[0m\u001b[0;34m\u001b[0m\u001b[0m\n\u001b[1;32m   1384\u001b[0m           \u001b[0mproto_data\u001b[0m \u001b[0;34m=\u001b[0m \u001b[0mtf_session\u001b[0m\u001b[0;34m.\u001b[0m\u001b[0mTF_GetBuffer\u001b[0m\u001b[0;34m(\u001b[0m\u001b[0mrun_metadata_ptr\u001b[0m\u001b[0;34m)\u001b[0m\u001b[0;34m\u001b[0m\u001b[0m\n",
      "\u001b[0;31mKeyboardInterrupt\u001b[0m: "
     ]
    }
   ],
   "metadata": {}
  },
  {
   "cell_type": "code",
   "execution_count": 19,
   "source": [
    "import matplotlib.image as mpimg\n",
    "import matplotlib.pyplot as plt\n",
    "# Visualizations will be shown in the notebook.\n",
    "%matplotlib inline\n",
    "\n",
    "### plot the training and validation loss for each epoch\n",
    "plt.plot(generator_history_object.history['loss'])\n",
    "plt.plot(generator_history_object.history['val_loss'])\n",
    "plt.title('model mean squared error loss', fontsize=15)\n",
    "plt.ylabel('mean squared error loss')\n",
    "plt.xlabel('epoch')\n",
    "plt.xticks(np.arange(len(generator_history_object.history['loss'])))\n",
    "plt.legend(['training set', 'validation set'], loc='upper right')\n",
    "plt.savefig(\"training_mse_{}_{}.png\".format(epoch,int(ts)))\n",
    "plt.show()"
   ],
   "outputs": [
    {
     "output_type": "display_data",
     "data": {
      "text/plain": [
       "<Figure size 432x288 with 1 Axes>"
      ],
      "image/png": "[encoded data removed]"
     },
     "metadata": {
      "needs_background": "light"
     }
    }
   ],
   "metadata": {}
  },
  {
   "cell_type": "code",
   "execution_count": 11,
   "source": [
    "from keras.utils.vis_utils import plot_model\n",
    "plot_model(model, to_file='model_{}_{}_plot.png'.format(epoch,int(ts)), show_shapes=True, show_layer_names=True)"
   ],
   "outputs": [],
   "metadata": {}
  },
  {
   "cell_type": "code",
   "execution_count": null,
   "source": [],
   "outputs": [],
   "metadata": {}
  }
 ]
}