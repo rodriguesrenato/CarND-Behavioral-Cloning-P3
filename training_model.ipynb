{
 "metadata": {
  "language_info": {
   "codemirror_mode": {
    "name": "ipython",
    "version": 3
   },
   "file_extension": ".py",
   "mimetype": "text/x-python",
   "name": "python",
   "nbconvert_exporter": "python",
   "pygments_lexer": "ipython3",
   "version": "3.5.2"
  },
  "orig_nbformat": 4,
  "kernelspec": {
   "name": "python3",
   "display_name": "Python 3.5.2 64-bit ('car-nd-tf1': conda)"
  },
  "interpreter": {
   "hash": "56abccd277d2f8b641726cb2c34314f6989c3f9b6cbb9826f9eec336b746dc6a"
  }
 },
 "nbformat": 4,
 "nbformat_minor": 2,
 "cells": [
  {
   "cell_type": "markdown",
   "source": [
    "# Behavioral Cloninig Project\n",
    "\n",
    "---\n",
    "\n",
    "## Training a model with Keras and Generator"
   ],
   "metadata": {}
  },
  {
   "cell_type": "markdown",
   "source": [
    "# Import Libraries"
   ],
   "metadata": {}
  },
  {
   "cell_type": "code",
   "execution_count": 105,
   "source": [
    "import os\n",
    "import csv\n",
    "import cv2\n",
    "import time\n",
    "import numpy as np\n",
    "from math import ceil\n",
    "import matplotlib.pyplot as plt\n",
    "import matplotlib.image as mpimg\n",
    "from matplotlib.ticker import StrMethodFormatter\n",
    "# Visualizations will be shown in the notebook.\n",
    "%matplotlib inline\n",
    "\n",
    "import sklearn\n",
    "from sklearn.model_selection import train_test_split\n",
    "from sklearn.utils import shuffle\n",
    "\n",
    "from keras.models import Sequential, Model\n",
    "from keras.layers import Flatten, Dense, Dropout, Lambda, Cropping2D\n",
    "from keras.layers.convolutional import Convolution2D"
   ],
   "outputs": [],
   "metadata": {}
  },
  {
   "cell_type": "markdown",
   "source": [
    "# Dataset Pre Processing"
   ],
   "metadata": {}
  },
  {
   "cell_type": "code",
   "execution_count": 122,
   "source": [
    "# Training params\n",
    "validation_split = 0.2\n",
    "\n",
    "# Create an sample array from driving_log.csv\n",
    "# Each line will correspond to an [image_path, measurement,augmented_flag]\n",
    "samples = []\n",
    "\n",
    "# Select which recorded trainings will be used\n",
    "samples_folders=[\"data2\",\"data_recovery\"]\n",
    "\n",
    "# Steering correction definition\n",
    "steering_correction = 0.2\n",
    "steering_correction_arr = [0.0, steering_correction, -1.0*steering_correction]\n",
    "\n",
    "# Load the samples array with a pair of a single image and the steering angle corrected\n",
    "for sf in samples_folders:\n",
    "    with open(\"./{}/driving_log.csv\".format(sf)) as csvfile:\n",
    "        reader = csv.reader(csvfile)\n",
    "        for line in reader:\n",
    "            for i in range(len(steering_correction_arr)):\n",
    "                # Add both normal and augmented entry, to be processed in the generator\n",
    "                # This approach would benefit shuffling the dataset\n",
    "                samples.append([line[i],float(line[3]) + steering_correction_arr[i],False])\n",
    "                samples.append([line[i],float(line[3]) + steering_correction_arr[i],True])\n",
    "\n",
    "\n",
    "\n",
    "# Define generator function to load images and augmented image/measurement when needed\n",
    "def generator(samples, batch_size=32):\n",
    "    num_samples = len(samples)\n",
    "\n",
    "    while 1: # Loop forever so the generator never terminates\n",
    "        shuffle(samples)\n",
    "\n",
    "        for offset in range(0, num_samples, batch_size):\n",
    "            batch_samples = samples[offset:offset+batch_size]\n",
    "\n",
    "            images = []\n",
    "            measurements = []\n",
    "\n",
    "            # Iterate over each sample in batch_samples\n",
    "            for batch_sample in batch_samples:\n",
    "                # Load image\n",
    "                image = mpimg.imread(batch_sample[0])\n",
    "                measurement = batch_sample[1]\n",
    "\n",
    "                # Check if augmented flag is set\n",
    "                if(batch_sample[2]):\n",
    "                    # Append a new augmented version of each sample by fliping it image in horizontal and inverting measurement sign\n",
    "                    # This will duplicate the training dataset\n",
    "                    images.append(cv2.flip(image,1))\n",
    "                    measurements.append(-1.0*measurement)\n",
    "\n",
    "                else:\n",
    "                    # Append sample image and the respective pre corrected steering angle measurement\n",
    "                    images.append(image)\n",
    "                    measurements.append(measurement)\n",
    "\n",
    "            # build the batched training dataset\n",
    "            X_train = np.array(images)\n",
    "            y_train = np.array(measurements)\n",
    "\n",
    "            # return the batch dataset\n",
    "            yield sklearn.utils.shuffle(X_train, y_train)\n",
    "\n",
    "# Create train and validation samples filenames arrays\n",
    "train_samples, validation_samples = train_test_split(shuffle(samples), test_size=validation_split)\n",
    "\n",
    "# helper function to calculate dataset histogram\n",
    "def summarize_dataset(dataset, name=\"dataset\",bins=10):\n",
    "    m_arr = np.array([-1.0*row[1] if row[2] else row[1] for row in dataset])\n",
    "    m_histogram = np.histogram(m_arr,bins=bins,range=(-1.0-steering_correction,1.0+steering_correction))\n",
    "    print(\"Total {} samples = {}\".format(name,len(m_arr)))\n",
    "    return m_histogram\n",
    "\n",
    "# Print a dataset summary\n",
    "print(\"Dataset Summary:\")\n",
    "bins=23\n",
    "train_hist = summarize_dataset(train_samples, \"Training\",bins=bins)\n",
    "valid_hist = summarize_dataset(validation_samples, \"Validation\",bins=bins)\n",
    "\n",
    "### plot the training and validation distribuition\n",
    "bar_w = 0.05\n",
    "plt.figure(figsize=(15,5))\n",
    "plt.bar(train_hist[1][:bins],train_hist[0]/sum(train_hist[0]),width=bar_w,align=\"edge\")\n",
    "plt.bar(valid_hist[1][:bins]+bar_w,valid_hist[0]/sum(valid_hist[0]),width=bar_w,align=\"edge\")\n",
    "plt.title(\"Dataset Distribuition\", fontsize=15)\n",
    "plt.gca().xaxis.set_major_formatter(StrMethodFormatter('{x:,.2f}'))\n",
    "plt.xticks(np.arange(-1.2, 1.4, step=2.4/bins))\n",
    "plt.ylabel(\"%\")\n",
    "plt.xlabel(\"Steering measurement\")\n",
    "plt.legend(['training set', 'validation set'], loc='upper right')\n",
    "# plt.savefig(\"dataset_distribution.png\")\n",
    "plt.show()"
   ],
   "outputs": [
    {
     "output_type": "stream",
     "name": "stdout",
     "text": [
      "Dataset Summary:\n",
      "Total Training samples = 24926\n",
      "Total Validation samples = 6232\n"
     ]
    },
    {
     "output_type": "display_data",
     "data": {
      "text/plain": [
       "<Figure size 1080x360 with 1 Axes>"
      ],
      "image/png": "[encoded data removed]"
     },
     "metadata": {
      "needs_background": "light"
     }
    }
   ],
   "metadata": {}
  },
  {
   "cell_type": "markdown",
   "source": [
    "# Training Pipeline"
   ],
   "metadata": {}
  },
  {
   "cell_type": "code",
   "execution_count": 137,
   "source": [
    "# Initialize Keras sequential model\n",
    "model = Sequential()\n",
    "\n",
    "# Preprocess incoming data, centered around zero with small standard deviation \n",
    "model.add(Lambda(lambda x: x/ 255.0 -0.5,input_shape=(160,320,3)))\n",
    "# Crop image on the relevant area of the road\n",
    "model.add(Cropping2D(cropping=((70,25),(0,0))))\n",
    "\n",
    "# Build model published by the autonomous vehicle team at NVIDIA\n",
    "model.add(Convolution2D(24,(5,5),strides=(2,2),activation=\"relu\"))\n",
    "model.add(Convolution2D(36,(5,5),strides=(2,2),activation=\"relu\"))\n",
    "model.add(Convolution2D(48,(5,5),strides=(2,2),activation=\"relu\"))\n",
    "model.add(Convolution2D(64,(3,3),activation=\"relu\"))\n",
    "model.add(Convolution2D(64,(3,3),activation=\"relu\"))\n",
    "model.add(Flatten())\n",
    "model.add(Dense(100,activation=\"relu\"))\n",
    "model.add(Dense(50,activation=\"relu\"))\n",
    "# model.add(Dropout(0.2))\n",
    "model.add(Dense(10,activation=\"relu\"))\n",
    "model.add(Dropout(0.2))\n",
    "model.add(Dense(1))\n",
    "\n",
    "# Show model layers summary\n",
    "print(\"\\nModel Summary:\")\n",
    "model.summary()\n",
    "\n",
    "# Training params\n",
    "epoch = 4\n",
    "batch_size = 128\n",
    "\n",
    "# Compile and train the model using the generator function.\n",
    "# NOTE: passing batch_size because generator will internally append 6 images per sample\n",
    "train_generator = generator(train_samples, batch_size=batch_size)\n",
    "validation_generator = generator(validation_samples, batch_size=batch_size)\n",
    "\n",
    "print(\"\\nTraining params:\")\n",
    "print(\"Epochs\\t\\t\\t\\t= {}\".format(epoch))\n",
    "print(\"Batch size\\t\\t\\t= {}\".format(batch_size))\n",
    "print(\"Total training samples  \\t= {}\\t| steps per batch = {}\".format(len(train_samples), ceil(len(train_samples)/batch_size)))\n",
    "print(\"Total validation samples\\t= {}\\t| steps per batch = {}\".format(len(validation_samples), ceil(len(validation_samples)/batch_size)))\n",
    "print(\"\\nStart training with generator:\\n\")\n",
    "\n",
    "# Train model with mean square error loss and adam optimizer\n",
    "ts = time.time()\n",
    "model.compile(loss='mse', optimizer='adam')\n",
    "generator_history_object = model.fit_generator(train_generator, \n",
    "                                steps_per_epoch=ceil(len(train_samples)/batch_size),\n",
    "                                validation_data=validation_generator,\n",
    "                                validation_steps=ceil(len(validation_samples)/batch_size),\n",
    "                                epochs=epoch, \n",
    "                                verbose=2)\n",
    "                                \n",
    "# Save model\n",
    "model.save('{}_model.h5'.format(int(ts)))\n",
    "print(\"Model saved! Filename: {}_model.h5\".format(epoch,int(ts)))"
   ],
   "outputs": [
    {
     "output_type": "stream",
     "name": "stdout",
     "text": [
      "\n",
      "Model Summary:\n",
      "_________________________________________________________________\n",
      "Layer (type)                 Output Shape              Param #   \n",
      "=================================================================\n",
      "lambda_8 (Lambda)            (None, 160, 320, 3)       0         \n",
      "_________________________________________________________________\n",
      "cropping2d_8 (Cropping2D)    (None, 65, 320, 3)        0         \n",
      "_________________________________________________________________\n",
      "conv2d_36 (Conv2D)           (None, 31, 158, 24)       1824      \n",
      "_________________________________________________________________\n",
      "conv2d_37 (Conv2D)           (None, 14, 77, 36)        21636     \n",
      "_________________________________________________________________\n",
      "conv2d_38 (Conv2D)           (None, 5, 37, 48)         43248     \n",
      "_________________________________________________________________\n",
      "conv2d_39 (Conv2D)           (None, 3, 35, 64)         27712     \n",
      "_________________________________________________________________\n",
      "conv2d_40 (Conv2D)           (None, 1, 33, 64)         36928     \n",
      "_________________________________________________________________\n",
      "flatten_8 (Flatten)          (None, 2112)              0         \n",
      "_________________________________________________________________\n",
      "dense_29 (Dense)             (None, 100)               211300    \n",
      "_________________________________________________________________\n",
      "dense_30 (Dense)             (None, 50)                5050      \n",
      "_________________________________________________________________\n",
      "dense_31 (Dense)             (None, 10)                510       \n",
      "_________________________________________________________________\n",
      "dropout_7 (Dropout)          (None, 10)                0         \n",
      "_________________________________________________________________\n",
      "dense_32 (Dense)             (None, 1)                 11        \n",
      "=================================================================\n",
      "Total params: 348,219\n",
      "Trainable params: 348,219\n",
      "Non-trainable params: 0\n",
      "_________________________________________________________________\n",
      "\n",
      "Training params:\n",
      "Epochs\t\t\t\t= 4\n",
      "Batch size\t\t\t= 128\n",
      "Total training samples  \t= 24926\t| steps per batch = 195\n",
      "Total validation samples\t= 6232\t| steps per batch = 49\n",
      "\n",
      "Start training with generator:\n",
      "\n",
      "Epoch 1/4\n",
      " - 65s - loss: 0.0302 - val_loss: 0.0263\n",
      "Epoch 2/4\n",
      " - 62s - loss: 0.0257 - val_loss: 0.0248\n",
      "Epoch 3/4\n",
      " - 62s - loss: 0.0247 - val_loss: 0.0247\n",
      "Epoch 4/4\n",
      " - 65s - loss: 0.0245 - val_loss: 0.0251\n",
      "Model saved! Filename: model_dropout_4_1626906158.h5\n"
     ]
    }
   ],
   "metadata": {}
  },
  {
   "cell_type": "markdown",
   "source": [
    "# Plot Training Results"
   ],
   "metadata": {}
  },
  {
   "cell_type": "code",
   "execution_count": 139,
   "source": [
    "### plot the training and validation loss for each epoch\n",
    "print(generator_history_object.history['loss'])\n",
    "plt.figure(figsize=(10,5))\n",
    "x_axis = np.arange(1, len(generator_history_object.history['loss'])+1, step=1)\n",
    "plt.plot(x_axis,generator_history_object.history['loss'])\n",
    "plt.plot(x_axis,generator_history_object.history['val_loss'])\n",
    "\n",
    "plt.title('model mean squared error loss', fontsize=15)\n",
    "plt.ylabel('Loss')\n",
    "plt.xlabel('Epoch #\\nEpoch={}, Batch={}, Model={}'.format(epoch,batch_size,\"D100r_D50r_D10r_DOUT0.2_D1\"))\n",
    "# plt.xticks(np.arange(len(generator_history_object.history['loss'])))\n",
    "plt.xticks(x_axis)\n",
    "plt.legend(['training set', 'validation set'], loc='upper right')\n",
    "plt.savefig(\"images/{}_training_mse.png\".format(epoch,int(ts)))\n",
    "plt.show()"
   ],
   "outputs": [
    {
     "output_type": "stream",
     "name": "stdout",
     "text": [
      "[0.030164006684989652, 0.02565794927017614, 0.02465647689831957, 0.024509007502761217]\n"
     ]
    },
    {
     "output_type": "display_data",
     "data": {
      "text/plain": [
       "<Figure size 720x360 with 1 Axes>"
      ],
      "image/png": "[encoded data removed]"
     },
     "metadata": {
      "needs_background": "light"
     }
    }
   ],
   "metadata": {}
  },
  {
   "cell_type": "markdown",
   "source": [
    "# Model Visualization"
   ],
   "metadata": {}
  },
  {
   "cell_type": "code",
   "execution_count": 141,
   "source": [
    "from keras.utils.vis_utils import plot_model\n",
    "plot_model(model, to_file='images/{}_model.png'.format(int(ts)), show_shapes=True, show_layer_names=True)"
   ],
   "outputs": [],
   "metadata": {}
  }
 ]
}